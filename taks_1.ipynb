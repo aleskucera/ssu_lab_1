{
 "cells": [
  {
   "cell_type": "code",
   "execution_count": 1,
   "id": "initial_id",
   "metadata": {
    "collapsed": true,
    "ExecuteTime": {
     "end_time": "2023-11-25T12:42:20.184524391Z",
     "start_time": "2023-11-25T12:42:04.324392915Z"
    }
   },
   "outputs": [],
   "source": [
    "from utils import load_examples, create_mapping, create_dataset, create_character_dataset\n",
    "\n",
    "X_train, y_train, img_train = load_examples('ocr_names_images/trn')\n",
    "X_test, y_test, img_test = load_examples('ocr_names_images/tst')\n",
    "\n",
    "mapping = create_mapping(y_train)"
   ]
  },
  {
   "cell_type": "code",
   "execution_count": 2,
   "outputs": [
    {
     "name": "stdout",
     "output_type": "stream",
     "text": [
      "X_train shape: (4074, 8256)\n",
      "y_train shape: (4074,)\n",
      "X_test shape: (2118, 8256)\n",
      "y_test shape: (2118,)\n"
     ]
    }
   ],
   "source": [
    "X_train, y_train, X_test, y_test = create_character_dataset(X_train, y_train, X_test, y_test, mapping)\n",
    "\n",
    "print(f\"X_train shape: {X_train.shape}\")\n",
    "print(f\"y_train shape: {y_train.shape}\")\n",
    "print(f\"X_test shape: {X_test.shape}\")\n",
    "print(f\"y_test shape: {y_test.shape}\")"
   ],
   "metadata": {
    "collapsed": false,
    "ExecuteTime": {
     "end_time": "2023-11-25T12:42:20.373103669Z",
     "start_time": "2023-11-25T12:42:20.187145349Z"
    }
   },
   "id": "ccaa9a2315528f88"
  },
  {
   "cell_type": "code",
   "execution_count": 3,
   "outputs": [
    {
     "name": "stdout",
     "output_type": "stream",
     "text": [
      "[12  0 23 ... 24  1 14]\n"
     ]
    }
   ],
   "source": [
    "print(y_train)"
   ],
   "metadata": {
    "collapsed": false,
    "ExecuteTime": {
     "end_time": "2023-11-25T12:42:20.376243881Z",
     "start_time": "2023-11-25T12:42:20.372648110Z"
    }
   },
   "id": "64d29f868c2b50ea"
  },
  {
   "cell_type": "code",
   "execution_count": 3,
   "outputs": [],
   "source": [],
   "metadata": {
    "collapsed": false,
    "ExecuteTime": {
     "end_time": "2023-11-25T12:42:20.378690383Z",
     "start_time": "2023-11-25T12:42:20.375296516Z"
    }
   },
   "id": "d1cc965bbdff132b"
  }
 ],
 "metadata": {
  "kernelspec": {
   "display_name": "Python 3",
   "language": "python",
   "name": "python3"
  },
  "language_info": {
   "codemirror_mode": {
    "name": "ipython",
    "version": 2
   },
   "file_extension": ".py",
   "mimetype": "text/x-python",
   "name": "python",
   "nbconvert_exporter": "python",
   "pygments_lexer": "ipython2",
   "version": "2.7.6"
  }
 },
 "nbformat": 4,
 "nbformat_minor": 5
}
