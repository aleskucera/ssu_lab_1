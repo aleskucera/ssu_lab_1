{
 "cells": [
  {
   "cell_type": "code",
   "execution_count": 1,
   "id": "initial_id",
   "metadata": {
    "collapsed": true,
    "ExecuteTime": {
     "end_time": "2023-11-28T16:34:28.555910836Z",
     "start_time": "2023-11-28T16:34:12.582358979Z"
    }
   },
   "outputs": [],
   "source": [
    "from src.utils import load_examples, create_mapping\n",
    "\n",
    "# Load dataset\n",
    "X_train, y_train, img_train = load_examples('ocr_names_images/trn')\n",
    "X_test, y_test, img_test = load_examples('ocr_names_images/tst')\n",
    "\n",
    "# Create mapping\n",
    "mapping = create_mapping(y_train)"
   ]
  },
  {
   "cell_type": "code",
   "execution_count": 2,
   "outputs": [],
   "source": [
    "from src.task_3 import LSCForFixedNumberOfSequences\n",
    "\n",
    "classifier = LSCForFixedNumberOfSequences(X_train, y_train, X_test, y_test, mapping)"
   ],
   "metadata": {
    "collapsed": false,
    "ExecuteTime": {
     "end_time": "2023-11-28T16:34:28.743078211Z",
     "start_time": "2023-11-28T16:34:28.555368442Z"
    }
   },
   "id": "5531f0039e24dc90"
  },
  {
   "cell_type": "code",
   "execution_count": 3,
   "outputs": [
    {
     "name": "stdout",
     "output_type": "stream",
     "text": [
      "Training completed with train accuracy: 1.0\n"
     ]
    }
   ],
   "source": [
    "classifier.train()"
   ],
   "metadata": {
    "collapsed": false,
    "ExecuteTime": {
     "end_time": "2023-11-28T16:34:32.468480923Z",
     "start_time": "2023-11-28T16:34:28.745663402Z"
    }
   },
   "id": "cf0d9f1144da9ac0"
  },
  {
   "cell_type": "code",
   "execution_count": 4,
   "outputs": [
    {
     "data": {
      "text/plain": "0.974"
     },
     "execution_count": 4,
     "metadata": {},
     "output_type": "execute_result"
    }
   ],
   "source": [
    "classifier.evaluate_test()"
   ],
   "metadata": {
    "collapsed": false,
    "ExecuteTime": {
     "end_time": "2023-11-28T16:34:32.717707732Z",
     "start_time": "2023-11-28T16:34:32.469057459Z"
    }
   },
   "id": "c070db8032da01f"
  }
 ],
 "metadata": {
  "kernelspec": {
   "display_name": "Python 3",
   "language": "python",
   "name": "python3"
  },
  "language_info": {
   "codemirror_mode": {
    "name": "ipython",
    "version": 2
   },
   "file_extension": ".py",
   "mimetype": "text/x-python",
   "name": "python",
   "nbconvert_exporter": "python",
   "pygments_lexer": "ipython2",
   "version": "2.7.6"
  }
 },
 "nbformat": 4,
 "nbformat_minor": 5
}
