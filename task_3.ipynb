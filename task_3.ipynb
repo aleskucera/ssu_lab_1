{
 "cells": [
  {
   "cell_type": "code",
   "execution_count": 9,
   "id": "initial_id",
   "metadata": {
    "collapsed": true,
    "ExecuteTime": {
     "end_time": "2023-12-07T10:00:23.621045045Z",
     "start_time": "2023-12-07T10:00:01.883233471Z"
    }
   },
   "outputs": [],
   "source": [
    "from src.utils import load_examples, create_mapping\n",
    "\n",
    "# Load dataset\n",
    "X_train, y_train, img_train = load_examples('ocr_names_images/trn')\n",
    "X_test, y_test, img_test = load_examples('ocr_names_images/tst')\n",
    "\n",
    "# Create mapping\n",
    "mapping = create_mapping(y_train)\n",
    "\n",
    "%load_ext autoreload\n",
    "%autoreload 2"
   ]
  },
  {
   "cell_type": "code",
   "execution_count": 10,
   "outputs": [],
   "source": [
    "from src.task_3 import LSCForFixedNumberOfSequences\n",
    "\n",
    "classifier = LSCForFixedNumberOfSequences(X_train, y_train, X_test, y_test, mapping)"
   ],
   "metadata": {
    "collapsed": false,
    "ExecuteTime": {
     "end_time": "2023-12-07T10:00:23.713381343Z",
     "start_time": "2023-12-07T10:00:23.625725834Z"
    }
   },
   "id": "5531f0039e24dc90"
  },
  {
   "cell_type": "code",
   "execution_count": 11,
   "outputs": [
    {
     "name": "stdout",
     "output_type": "stream",
     "text": [
      "Training completed with train accuracy: 1.0\n"
     ]
    }
   ],
   "source": [
    "classifier.train()"
   ],
   "metadata": {
    "collapsed": false,
    "ExecuteTime": {
     "end_time": "2023-12-07T10:00:29.385124676Z",
     "start_time": "2023-12-07T10:00:23.713190045Z"
    }
   },
   "id": "cf0d9f1144da9ac0"
  },
  {
   "cell_type": "code",
   "execution_count": 13,
   "outputs": [
    {
     "name": "stdout",
     "output_type": "stream",
     "text": [
      "Character error 0.47%\n",
      "Sequence error 1.80%\n"
     ]
    }
   ],
   "source": [
    "print(f\"Character error {classifier.char_error() * 100:.2f}%\")\n",
    "print(f\"Sequence error {classifier.seq_error() * 100:.2f}%\")"
   ],
   "metadata": {
    "collapsed": false,
    "ExecuteTime": {
     "end_time": "2023-12-07T10:17:22.027680680Z",
     "start_time": "2023-12-07T10:15:22.667046618Z"
    }
   },
   "id": "c070db8032da01f"
  }
 ],
 "metadata": {
  "kernelspec": {
   "display_name": "Python 3",
   "language": "python",
   "name": "python3"
  },
  "language_info": {
   "codemirror_mode": {
    "name": "ipython",
    "version": 2
   },
   "file_extension": ".py",
   "mimetype": "text/x-python",
   "name": "python",
   "nbconvert_exporter": "python",
   "pygments_lexer": "ipython2",
   "version": "2.7.6"
  }
 },
 "nbformat": 4,
 "nbformat_minor": 5
}
