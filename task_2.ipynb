{
 "cells": [
  {
   "cell_type": "code",
   "execution_count": 1,
   "id": "initial_id",
   "metadata": {
    "collapsed": true,
    "ExecuteTime": {
     "end_time": "2023-12-07T09:58:10.322836364Z",
     "start_time": "2023-12-07T09:57:53.353197467Z"
    }
   },
   "outputs": [],
   "source": [
    "from src.utils import load_examples, create_mapping\n",
    "\n",
    "# Load the data\n",
    "X_train, y_train, img_train = load_examples('ocr_names_images/trn')\n",
    "X_test, y_test, img_test = load_examples('ocr_names_images/tst')\n",
    "\n",
    "# Create the mapping\n",
    "mapping = create_mapping(y_train)\n",
    "\n",
    "%load_ext autoreload\n",
    "%autoreload 2"
   ]
  },
  {
   "cell_type": "code",
   "execution_count": 2,
   "outputs": [],
   "source": [
    "from src.task_2 import LSCPairWiseDependency\n",
    "\n",
    "classifier = LSCPairWiseDependency(X_train, y_train, X_test, y_test, mapping)"
   ],
   "metadata": {
    "collapsed": false,
    "ExecuteTime": {
     "end_time": "2023-12-07T09:58:10.491303824Z",
     "start_time": "2023-12-07T09:58:10.324609491Z"
    }
   },
   "id": "dc6f94764343cdc8"
  },
  {
   "cell_type": "code",
   "execution_count": 3,
   "outputs": [
    {
     "name": "stdout",
     "output_type": "stream",
     "text": [
      "Train accuracy: 0.955\n",
      "Training completed with train accuracy: 1.0\n"
     ]
    }
   ],
   "source": [
    "classifier.train()"
   ],
   "metadata": {
    "collapsed": false,
    "ExecuteTime": {
     "end_time": "2023-12-07T09:58:14.775055974Z",
     "start_time": "2023-12-07T09:58:10.491518013Z"
    }
   },
   "id": "a451fab5503ce481"
  },
  {
   "cell_type": "code",
   "execution_count": 6,
   "outputs": [
    {
     "name": "stdout",
     "output_type": "stream",
     "text": [
      "5.76%\n",
      "13.00%\n"
     ]
    }
   ],
   "source": [
    "print(f\"Character error {classifier.char_error() * 100:.2f}%\")\n",
    "print(f\"Sequence error {classifier.seq_error() * 100:.2f}%\")"
   ],
   "metadata": {
    "collapsed": false,
    "ExecuteTime": {
     "end_time": "2023-12-07T09:59:06.447865187Z",
     "start_time": "2023-12-07T09:59:06.174712953Z"
    }
   },
   "id": "332e04c4250e8abf"
  },
  {
   "cell_type": "code",
   "execution_count": 4,
   "outputs": [],
   "source": [],
   "metadata": {
    "collapsed": false,
    "ExecuteTime": {
     "end_time": "2023-12-07T09:58:15.018511008Z",
     "start_time": "2023-12-07T09:58:15.015182246Z"
    }
   },
   "id": "4f206c3c0543440e"
  }
 ],
 "metadata": {
  "kernelspec": {
   "display_name": "Python 3",
   "language": "python",
   "name": "python3"
  },
  "language_info": {
   "codemirror_mode": {
    "name": "ipython",
    "version": 2
   },
   "file_extension": ".py",
   "mimetype": "text/x-python",
   "name": "python",
   "nbconvert_exporter": "python",
   "pygments_lexer": "ipython2",
   "version": "2.7.6"
  }
 },
 "nbformat": 4,
 "nbformat_minor": 5
}
