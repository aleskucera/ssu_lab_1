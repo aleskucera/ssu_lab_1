{
 "cells": [
  {
   "cell_type": "code",
   "execution_count": 1,
   "outputs": [],
   "source": [
    "from src.utils import load_examples, create_mapping\n",
    "\n",
    "# Load the data\n",
    "X_train, y_train, img_train = load_examples('ocr_names_images/trn')\n",
    "X_test, y_test, img_test = load_examples('ocr_names_images/tst')\n",
    "\n",
    "# Create the mapping\n",
    "mapping = create_mapping(y_train)\n",
    "\n",
    "%load_ext autoreload\n",
    "%autoreload 2"
   ],
   "metadata": {
    "collapsed": false,
    "ExecuteTime": {
     "end_time": "2023-12-07T15:21:22.883488511Z",
     "start_time": "2023-12-07T15:21:05.667943999Z"
    }
   },
   "id": "initial_id"
  },
  {
   "cell_type": "code",
   "execution_count": 2,
   "outputs": [],
   "source": [
    "from src.task_4 import StructuredOutputSVM\n",
    "\n",
    "classifier = StructuredOutputSVM(X_train, y_train, X_test, y_test, mapping)"
   ],
   "metadata": {
    "collapsed": false,
    "ExecuteTime": {
     "end_time": "2023-12-07T15:21:23.151104853Z",
     "start_time": "2023-12-07T15:21:22.885999343Z"
    }
   },
   "id": "f4c93768830458a9"
  },
  {
   "cell_type": "code",
   "execution_count": 3,
   "outputs": [
    {
     "name": "stdout",
     "output_type": "stream",
     "text": [
      "Train accuracy: 0.739\n",
      "Train accuracy: 0.98\n",
      "Train accuracy: 1.0\n",
      "Train accuracy: 1.0\n",
      "Training completed with train accuracy: 1.0\n"
     ]
    }
   ],
   "source": [
    "classifier.train()"
   ],
   "metadata": {
    "collapsed": false,
    "ExecuteTime": {
     "end_time": "2023-12-07T15:21:36.460513366Z",
     "start_time": "2023-12-07T15:21:23.152689697Z"
    }
   },
   "id": "219ca97da5d76299"
  },
  {
   "cell_type": "code",
   "execution_count": 4,
   "outputs": [
    {
     "name": "stdout",
     "output_type": "stream",
     "text": [
      "Character error 5.76%\n",
      "Sequence error 13.00%\n"
     ]
    }
   ],
   "source": [
    "print(f\"Character error {classifier.char_error() * 100:.2f}%\")\n",
    "print(f\"Sequence error {classifier.seq_error() * 100:.2f}%\")"
   ],
   "metadata": {
    "collapsed": false,
    "ExecuteTime": {
     "end_time": "2023-12-07T15:21:36.745833793Z",
     "start_time": "2023-12-07T15:21:36.460028018Z"
    }
   },
   "id": "3efcf36724c17a8d"
  }
 ],
 "metadata": {
  "kernelspec": {
   "display_name": "Python 3",
   "language": "python",
   "name": "python3"
  },
  "language_info": {
   "codemirror_mode": {
    "name": "ipython",
    "version": 2
   },
   "file_extension": ".py",
   "mimetype": "text/x-python",
   "name": "python",
   "nbconvert_exporter": "python",
   "pygments_lexer": "ipython2",
   "version": "2.7.6"
  }
 },
 "nbformat": 4,
 "nbformat_minor": 5
}
