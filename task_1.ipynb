{
 "cells": [
  {
   "cell_type": "code",
   "execution_count": 1,
   "id": "initial_id",
   "metadata": {
    "collapsed": true,
    "ExecuteTime": {
     "end_time": "2023-11-28T15:40:17.620770526Z",
     "start_time": "2023-11-28T15:40:01.982438288Z"
    }
   },
   "outputs": [],
   "source": [
    "from src.utils import load_examples, create_mapping\n",
    "\n",
    "# Load dataset\n",
    "X_train, y_train, img_train = load_examples('ocr_names_images/trn')\n",
    "X_test, y_test, img_test = load_examples('ocr_names_images/tst')\n",
    "\n",
    "# Create mapping\n",
    "mapping = create_mapping(y_train)"
   ]
  },
  {
   "cell_type": "code",
   "execution_count": 2,
   "outputs": [],
   "source": [
    "from src.task_1 import IndependentLinearClassifier\n",
    "\n",
    "classifier = IndependentLinearClassifier(X_train, y_train, X_test, y_test, mapping)"
   ],
   "metadata": {
    "collapsed": false,
    "ExecuteTime": {
     "end_time": "2023-11-28T15:40:17.924051121Z",
     "start_time": "2023-11-28T15:40:17.622805875Z"
    }
   },
   "id": "ccaa9a2315528f88"
  },
  {
   "cell_type": "code",
   "execution_count": 3,
   "outputs": [
    {
     "name": "stdout",
     "output_type": "stream",
     "text": [
      "Train accuracy: 0.9408443789887089\n",
      "Train accuracy: 0.9928816887579774\n",
      "Train accuracy: 0.9771723122238586\n",
      "Training completed with train accuracy: 1.0\n"
     ]
    }
   ],
   "source": [
    "classifier.train()"
   ],
   "metadata": {
    "collapsed": false,
    "ExecuteTime": {
     "end_time": "2023-11-28T15:40:41.076793814Z",
     "start_time": "2023-11-28T15:40:17.924664224Z"
    }
   },
   "id": "64d29f868c2b50ea"
  },
  {
   "cell_type": "code",
   "execution_count": 4,
   "outputs": [
    {
     "data": {
      "text/plain": "0.7379603399433428"
     },
     "execution_count": 4,
     "metadata": {},
     "output_type": "execute_result"
    }
   ],
   "source": [
    "classifier.evaluate_test()"
   ],
   "metadata": {
    "collapsed": false,
    "ExecuteTime": {
     "end_time": "2023-11-28T15:40:41.384802250Z",
     "start_time": "2023-11-28T15:40:41.078993961Z"
    }
   },
   "id": "d1cc965bbdff132b"
  }
 ],
 "metadata": {
  "kernelspec": {
   "display_name": "Python 3",
   "language": "python",
   "name": "python3"
  },
  "language_info": {
   "codemirror_mode": {
    "name": "ipython",
    "version": 2
   },
   "file_extension": ".py",
   "mimetype": "text/x-python",
   "name": "python",
   "nbconvert_exporter": "python",
   "pygments_lexer": "ipython2",
   "version": "2.7.6"
  }
 },
 "nbformat": 4,
 "nbformat_minor": 5
}
