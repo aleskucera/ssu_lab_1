{
 "cells": [
  {
   "cell_type": "code",
   "execution_count": 6,
   "id": "initial_id",
   "metadata": {
    "collapsed": true,
    "ExecuteTime": {
     "end_time": "2023-12-07T10:00:12.478132319Z",
     "start_time": "2023-12-07T09:59:54.362227803Z"
    }
   },
   "outputs": [
    {
     "name": "stdout",
     "output_type": "stream",
     "text": [
      "The autoreload extension is already loaded. To reload it, use:\n",
      "  %reload_ext autoreload\n"
     ]
    }
   ],
   "source": [
    "from src.utils import load_examples, create_mapping\n",
    "\n",
    "# Load dataset\n",
    "X_train, y_train, img_train = load_examples('ocr_names_images/trn')\n",
    "X_test, y_test, img_test = load_examples('ocr_names_images/tst')\n",
    "\n",
    "# Create mapping\n",
    "mapping = create_mapping(y_train)\n",
    "\n",
    "%load_ext autoreload\n",
    "%autoreload 2"
   ]
  },
  {
   "cell_type": "code",
   "execution_count": 7,
   "outputs": [],
   "source": [
    "from src.task_1 import IndependentLinearClassifier\n",
    "\n",
    "classifier = IndependentLinearClassifier(X_train, y_train, X_test, y_test, mapping)"
   ],
   "metadata": {
    "collapsed": false,
    "ExecuteTime": {
     "end_time": "2023-12-07T10:00:13.239442946Z",
     "start_time": "2023-12-07T10:00:12.477393411Z"
    }
   },
   "id": "ccaa9a2315528f88"
  },
  {
   "cell_type": "code",
   "execution_count": 8,
   "outputs": [
    {
     "name": "stdout",
     "output_type": "stream",
     "text": [
      "Train accuracy: 0.9408443789887089\n",
      "Train accuracy: 0.9928816887579774\n",
      "Train accuracy: 0.9771723122238586\n",
      "Training completed with train accuracy: 1.0\n"
     ]
    }
   ],
   "source": [
    "classifier.train()"
   ],
   "metadata": {
    "collapsed": false,
    "ExecuteTime": {
     "end_time": "2023-12-07T10:00:41.713824211Z",
     "start_time": "2023-12-07T10:00:13.240480313Z"
    }
   },
   "id": "64d29f868c2b50ea"
  },
  {
   "cell_type": "code",
   "execution_count": 9,
   "outputs": [
    {
     "name": "stdout",
     "output_type": "stream",
     "text": [
      "Character error 26.20%\n",
      "Sequence error 70.80%\n"
     ]
    }
   ],
   "source": [
    "print(f\"Character error {classifier.char_error() * 100:.2f}%\")\n",
    "print(f\"Sequence error {classifier.seq_error() * 100:.2f}%\")"
   ],
   "metadata": {
    "collapsed": false,
    "ExecuteTime": {
     "end_time": "2023-12-07T10:00:42.238044602Z",
     "start_time": "2023-12-07T10:00:41.715136829Z"
    }
   },
   "id": "d1cc965bbdff132b"
  },
  {
   "cell_type": "code",
   "execution_count": 9,
   "outputs": [],
   "source": [],
   "metadata": {
    "collapsed": false,
    "ExecuteTime": {
     "end_time": "2023-12-07T10:00:42.241823703Z",
     "start_time": "2023-12-07T10:00:42.236280615Z"
    }
   },
   "id": "86c31b900a0d99cf"
  }
 ],
 "metadata": {
  "kernelspec": {
   "display_name": "Python 3",
   "language": "python",
   "name": "python3"
  },
  "language_info": {
   "codemirror_mode": {
    "name": "ipython",
    "version": 2
   },
   "file_extension": ".py",
   "mimetype": "text/x-python",
   "name": "python",
   "nbconvert_exporter": "python",
   "pygments_lexer": "ipython2",
   "version": "2.7.6"
  }
 },
 "nbformat": 4,
 "nbformat_minor": 5
}
